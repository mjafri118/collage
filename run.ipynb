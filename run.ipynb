{
 "cells": [
  {
   "cell_type": "markdown",
   "metadata": {},
   "source": [
    "# Mosaic\n",
    "Inputs:\n",
    "- goal image\n",
    "- folder of images\n",
    "- number of photos you want in image\n",
    "\n",
    "Output\n",
    "- image"
   ]
  },
  {
   "cell_type": "code",
   "execution_count": 5,
   "metadata": {},
   "outputs": [],
   "source": [
    "INPUT_IMAGE_PATH = \"data/targetimages/boots.JPG\"\n",
    "OUTPUT_IMAGE_PATH = \"data/outputimages/woop250photos-200pixels-60opacity.jpg\"\n",
    "ALBUM_FOLDER_PATH = \"data/albums/boots/\"\n",
    "ALBUM_PHOTO_EXTENSION = \"*.JPG\"\n"
   ]
  },
  {
   "cell_type": "markdown",
   "metadata": {},
   "source": [
    "# Step 1: Index Photos\n"
   ]
  },
  {
   "cell_type": "code",
   "execution_count": 6,
   "metadata": {},
   "outputs": [],
   "source": [
    "from PIL import Image\n",
    "from IPython.display import clear_output\n",
    "import numpy as np\n",
    "\n",
    "from colormath.color_objects import sRGBColor, LabColor\n",
    "from colormath.color_conversions import convert_color\n",
    "from colormath.color_diff import delta_e_cie2000\n",
    "\n",
    "import glob\n",
    "import json"
   ]
  },
  {
   "cell_type": "code",
   "execution_count": 118,
   "metadata": {},
   "outputs": [],
   "source": [
    "class DistanceHeuristics:\n",
    "    def __init__(self, indexPath):\n",
    "        with open(indexPath, \"r\") as f:\n",
    "            data = f.read()\n",
    "            self.photos = json.loads(data)\n",
    "            print(\"Photos index loaded.\")\n",
    "\n",
    "        self.lookup = np.ndarray((256,256,256,1), dtype=\"int\")\n",
    "    \n",
    "    def deltaCIE(self, inputColor):\n",
    "        color2_rgb = sRGBColor(inputColor[0], inputColor[1], inputColor[2])\n",
    "        # Convert from RGB to Lab Color Space\n",
    "        color2_lab = convert_color(color2_rgb, LabColor)\n",
    "\n",
    "        delta = {\n",
    "            \"path\": \"none\",\n",
    "            \"amount\": 10000000\n",
    "        }\n",
    "\n",
    "        for photo in self.photos:\n",
    "            photoRGB = eval(photo['dominantColor'])\n",
    "            color1_rgb = sRGBColor(photoRGB[0], photoRGB[1], photoRGB[2])\n",
    "\n",
    "            # Convert from RGB to Lab Color Space   \n",
    "            color1_lab = convert_color(color1_rgb, LabColor)\n",
    "\n",
    "            # Find the color difference\n",
    "            delta_e = delta_e_cie2000(color1_lab, color2_lab)\n",
    "\n",
    "            if delta_e < delta['amount']:\n",
    "                delta['amount'] = delta_e\n",
    "                delta['path'] = photo['fileName']\n",
    "        \n",
    "        return delta['path']\n",
    "    \n",
    "    def deltaCIEOptimized(self, inputColor):\n",
    "        \n",
    "        # OPTIMIZATION: check to see if input color has already been searched for\n",
    "        if self.lookup[inputColor[0]][inputColor[1]][inputColor[2]][0] != 0:\n",
    "            # print(\"Input color exists!\")\n",
    "            # print(inputColor)\n",
    "            # print(self.lookup[inputColor[0]][inputColor[1]][inputColor[2]])\n",
    "            idx = self.lookup[inputColor[0]][inputColor[1]][inputColor[2]][0]\n",
    "            return self.photos[idx]['fileName']\n",
    "\n",
    "        color2_rgb = sRGBColor(inputColor[0], inputColor[1], inputColor[2])\n",
    "        # Convert from RGB to Lab Color Space\n",
    "        color2_lab = convert_color(color2_rgb, LabColor)\n",
    "\n",
    "        delta = {\n",
    "            \"path\": \"none\",\n",
    "            \"amount\": 10000000\n",
    "        }\n",
    "\n",
    "        enumPhotos = enumerate(self.photos)\n",
    "\n",
    "        for i, photo in enumPhotos:\n",
    "            photoRGB = eval(photo['dominantColor'])\n",
    "            color1_rgb = sRGBColor(photoRGB[0], photoRGB[1], photoRGB[2])\n",
    "\n",
    "            # Convert from RGB to Lab Color Space   \n",
    "            color1_lab = convert_color(color1_rgb, LabColor)\n",
    "\n",
    "            # Find the color difference\n",
    "            delta_e = delta_e_cie2000(color1_lab, color2_lab)\n",
    "\n",
    "            if delta_e < delta['amount']:\n",
    "                delta['amount'] = delta_e\n",
    "                delta['path'] = photo['fileName']\n",
    "                delta['index'] = i\n",
    "        \n",
    "        self.lookup[inputColor[0]][inputColor[1]][inputColor[2]][0] = delta['index']\n",
    "        return delta['path']\n",
    "\n",
    "def getDominantColorImage(img, pixelLength):\n",
    "    img = img.resize((1,1), resample=0)\n",
    "    img = img.resize((pixelLength, pixelLength))\n",
    "    return img\n",
    "\n",
    "\n",
    "def getDominantColorFromImage(img):\n",
    "    img.resize((1,1), resample=0)\n",
    "    return img.getpixel((0,0))\n"
   ]
  },
  {
   "cell_type": "code",
   "execution_count": 8,
   "metadata": {},
   "outputs": [
    {
     "name": "stdout",
     "output_type": "stream",
     "text": [
      "Done indexing photo folder!\n"
     ]
    }
   ],
   "source": [
    "\n",
    "def getPhotoPaths(path):\n",
    "    return glob.glob(path)\n",
    "\n",
    "def indexPhotoFolder(path, indexFileName, lim=None):\n",
    "    photoPaths = getPhotoPaths(path)\n",
    "\n",
    "    dominant_indexed = []\n",
    "\n",
    "    for i in range(len(photoPaths[0:lim])):\n",
    "        photo = Image.open(photoPaths[i])\n",
    "        dominantColor = str(getDominantColorFromImage(photo))\n",
    "        dominant_indexed.append({\"fileName\":str(photoPaths[i]),\"dominantColor\":dominantColor})\n",
    "        \n",
    "        # print(\"Photos Indexed: {}/{}\".format(i+1, len(photoPaths[0:lim])) )\n",
    "\n",
    "    f = open(indexFileName, \"w\")\n",
    "    f.write(json.dumps(dominant_indexed))\n",
    "    f.close()\n",
    "    print(\"Done indexing photo folder!\")\n",
    "    return \n",
    "\n",
    "indexPhotoFolder(ALBUM_FOLDER_PATH + ALBUM_PHOTO_EXTENSION, ALBUM_FOLDER_PATH + 'indexed.txt')"
   ]
  },
  {
   "cell_type": "markdown",
   "metadata": {},
   "source": [
    "____________________________________________________________\n",
    "\n",
    "# Step 2: Compute Image"
   ]
  },
  {
   "cell_type": "code",
   "execution_count": 120,
   "metadata": {},
   "outputs": [
    {
     "name": "stdout",
     "output_type": "stream",
     "text": [
      "Photos index loaded.\n",
      "Completed 0/10, 0/13\r"
     ]
    }
   ],
   "source": [
    "strategies = [\"dominantFromTarget\", \"dominantFromAlbum\", \"dominantFromAlbumWithBlend\", \"dominantFromAlbumWithBlendAndOptimized\"]\n",
    "selectedStrategyIndex = 3\n",
    "downSizeFactor = 5 # make photo 5x smaller\n",
    "subPhotoPixelLength = 200\n",
    "numberSubPhotosHorizontal = 10\n",
    "\n",
    "# Downsize image to make processing a bit easier. \n",
    "selectedPhoto = Image.open(INPUT_IMAGE_PATH)\n",
    "initialPhotoWidth, initialPhotoHeight = selectedPhoto.size\n",
    "selectedPhoto = selectedPhoto.resize((int(initialPhotoWidth / downSizeFactor), int(initialPhotoHeight / downSizeFactor)))\n",
    "initialPhotoWidth, initialPhotoHeight = selectedPhoto.size\n",
    "\n",
    "# Determine scale of new image\n",
    "scaleFactor = int(np.floor(initialPhotoWidth/numberSubPhotosHorizontal))\n",
    "numberSubPhotosVertical = int(np.floor(initialPhotoHeight / scaleFactor))\n",
    "finalPhotoWidth = int(subPhotoPixelLength * numberSubPhotosHorizontal)\n",
    "finalPhotoHeight = int(subPhotoPixelLength  * numberSubPhotosVertical)\n",
    "\n",
    "finalPhoto = Image.new(\"RGB\", (finalPhotoWidth, finalPhotoHeight))\n",
    "\n",
    "\n",
    "def formatAlbumPhoto(photoPath, pixelLength, blend=False, alpha=0.5, dominantPhoto=False):\n",
    "    photo = Image.open(photoPath)\n",
    "    photo = photo.resize((pixelLength, pixelLength))\n",
    "    if blend:\n",
    "        return Image.blend(photo, dominantPhoto, alpha)\n",
    "    return photo\n",
    "\n",
    "\n",
    "def findBestMatchPhoto(cropPhoto, pixelLength):\n",
    "    # Strat 0: Just get dominant color from original target image\n",
    "    if (strategies[selectedStrategyIndex] == 'dominantFromTarget'):\n",
    "        dominant_color = getDominantColorFromImage(cropPhoto)\n",
    "        return Image.new('RGB', (pixelLength, pixelLength), dominant_color)\n",
    "    \n",
    "    if (strategies[selectedStrategyIndex] == \"dominantFromAlbum\"):\n",
    "        dominantColorFromTarget = getDominantColorFromImage(cropPhoto)\n",
    "        photoPath = D.deltaCIE(dominantColorFromTarget)\n",
    "        photo = formatAlbumPhoto(photoPath, pixelLength)\n",
    "        return photo\n",
    "    \n",
    "    if (strategies[selectedStrategyIndex] == \"dominantFromAlbumWithBlend\"):\n",
    "        dominantColorFromTarget = getDominantColorFromImage(cropPhoto)\n",
    "        photoPath = D.deltaCIE(dominantColorFromTarget)\n",
    "        photo = formatAlbumPhoto(photoPath, pixelLength, True, 0.6, getDominantColorImage(cropPhoto, pixelLength))\n",
    "        return photo\n",
    "    \n",
    "    if (strategies[selectedStrategyIndex] == \"dominantFromAlbumWithBlendAndOptimized\"):\n",
    "        dominantColorFromTarget = getDominantColorFromImage(cropPhoto)\n",
    "        photoPath = D.deltaCIEOptimized(dominantColorFromTarget)\n",
    "        photo = formatAlbumPhoto(photoPath, pixelLength, True, 0.6, getDominantColorImage(cropPhoto, pixelLength))\n",
    "        return photo\n",
    "\n",
    "D = DistanceHeuristics(ALBUM_FOLDER_PATH + 'indexed.txt')\n",
    "\n",
    "for i in range(numberSubPhotosHorizontal):\n",
    "    for j in range(numberSubPhotosVertical):\n",
    "        selectedPhotoCrop = selectedPhoto.crop((i * scaleFactor, j * scaleFactor, i * scaleFactor + scaleFactor, j * scaleFactor + scaleFactor))\n",
    "        bestMatchPhoto = findBestMatchPhoto(selectedPhotoCrop, subPhotoPixelLength)\n",
    "        finalPhoto.paste(bestMatchPhoto, box=(i * subPhotoPixelLength, j * subPhotoPixelLength))\n",
    "\n",
    "        print(f\"Completed {i}/{numberSubPhotosHorizontal}, {j}/{numberSubPhotosVertical}\", end='\\r')\n",
    "\n",
    "finalPhoto.save(OUTPUT_IMAGE_PATH)\n"
   ]
  },
  {
   "cell_type": "markdown",
   "metadata": {},
   "source": [
    "# Random Tests, clean later"
   ]
  },
  {
   "cell_type": "code",
   "execution_count": 132,
   "metadata": {},
   "outputs": [],
   "source": [
    "# given an image\n",
    "img = Image.open('boots.JPG')\n",
    "img = img.resize((50,50))\n",
    "img2 = Image.open('boots.JPG')\n",
    "img2 = img2.resize((50,50))\n",
    "img3 = Image.blend(img, img2, .1)\n",
    "img3.show()\n",
    "\n",
    "# tint it slightly red\n"
   ]
  },
  {
   "cell_type": "code",
   "execution_count": null,
   "metadata": {},
   "outputs": [],
   "source": [
    "def generateCollage(inputPhotoPath, inputPhotosFolderPath, outputPhotoPath, desiredResolution, allowRepeat=True):\n",
    "    # if (inputPhotosFolderPath is not fully indexed)\n",
    "        # index it\n",
    "\n",
    "    # collageDimension = [50, 40] 50 pixels/images wide, 40 pixels/images tall\n",
    "    # collageDimension = getCollageDimension(inputPhotoPath, desiredResolution)\n",
    "\n",
    "    # generate photo\n",
    "\n",
    "# from PIL import Image\n",
    "# from IPython.display import clear_output\n",
    "\n",
    "# CREATE COLLAGE\n",
    "# selectedPhotoName = \"boots.jpg\"\n",
    "# folderPath = \"boots/\"\n",
    "\n",
    "# SUBPHOTO_WIDTH = 50\n",
    "# SUBPHOTO_HEIGHT = SUBPHOTO_WIDTH\n",
    "# SUBPHOTO_DIMENSIONS = (SUBPHOTO_WIDTH,SUBPHOTO_HEIGHT)\n",
    "\n",
    "# FINAL_WIDTH_NUMPHOTOS, FINAL_HEIGHT_NUMPHOTOS = 100, 100\n",
    "# FINAL_WIDTH, FINAL_HEIGHT = FINAL_WIDTH_NUMPHOTOS*SUBPHOTO_WIDTH, FINAL_HEIGHT_NUMPHOTOS*SUBPHOTO_HEIGHT\n",
    "\n",
    "\n",
    "# collagePixels = Image.open(selectedPhotoName, \"r\")\n",
    "# collagePixels = collagePixels.resize((FINAL_WIDTH_NUMPHOTOS,FINAL_HEIGHT_NUMPHOTOS),Image.ANTIALIAS)\n",
    "\n",
    "# collagePhoto = Image.new(\"RGB\",(FINAL_WIDTH,FINAL_HEIGHT))\n",
    "\n",
    "# for i in range(FINAL_WIDTH_NUMPHOTOS):\n",
    "#     for j in range(FINAL_HEIGHT_NUMPHOTOS):\n",
    "#         clear_output(wait=True)\n",
    "        \n",
    "#         collagePixel = collagePixels.getpixel((i,j))\n",
    "#         matchedSubPhotoPath = C.matchPixelToSubPhoto(collagePixel, indexPath='boots/index.txt')\n",
    "        \n",
    "#         subPhoto = C.getResizedSubPhoto(matchedSubPhotoPath, SUBPHOTO_DIMENSIONS)\n",
    "#         collagePhoto.paste(subPhoto, box=(i*SUBPHOTO_WIDTH,j*SUBPHOTO_HEIGHT))\n",
    "        \n",
    "#         print(\"Photos Added to Collage: [{}/{}],[{}/{}]\".format(i+1,FINAL_WIDTH_NUMPHOTOS, j+1, FINAL_HEIGHT_NUMPHOTOS))\n",
    "\n",
    "# collagePhoto.save('output_image3.JPG')\n",
    "\n",
    "# print(\"Done!\")"
   ]
  },
  {
   "cell_type": "code",
   "execution_count": 96,
   "metadata": {},
   "outputs": [
    {
     "name": "stdout",
     "output_type": "stream",
     "text": [
      "[[[[5]]]]\n",
      "LOOKUP BELOE\n",
      "5\n",
      "LOOKUP ABOVE\n"
     ]
    }
   ],
   "source": [
    "lookup = np.ndarray((1,1,1,1), dtype=\"int\")\n",
    "print(lookup)\n",
    "lookup[0][0][0][0] = 5\n",
    "print(\"LOOKUP BELOE\")\n",
    "print(lookup[0][0][0][0])\n",
    "print(\"LOOKUP ABOVE\")"
   ]
  },
  {
   "cell_type": "code",
   "execution_count": null,
   "metadata": {},
   "outputs": [],
   "source": []
  }
 ],
 "metadata": {
  "interpreter": {
   "hash": "31f2aee4e71d21fbe5cf8b01ff0e069b9275f58929596ceb00d14d90e3e16cd6"
  },
  "kernelspec": {
   "display_name": "Python 3.8.2 64-bit",
   "language": "python",
   "name": "python3"
  },
  "language_info": {
   "codemirror_mode": {
    "name": "ipython",
    "version": 3
   },
   "file_extension": ".py",
   "mimetype": "text/x-python",
   "name": "python",
   "nbconvert_exporter": "python",
   "pygments_lexer": "ipython3",
   "version": "3.9.5"
  },
  "orig_nbformat": 4
 },
 "nbformat": 4,
 "nbformat_minor": 2
}
